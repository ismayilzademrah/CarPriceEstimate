{
 "cells": [
  {
   "cell_type": "code",
   "execution_count": 1,
   "id": "7441912a-a7d7-4042-81b7-84e399ba9831",
   "metadata": {},
   "outputs": [
    {
     "name": "stdout",
     "output_type": "stream",
     "text": [
      "Writing car_price_estimate_app.py\n"
     ]
    }
   ],
   "source": [
    "%%writefile car_price_estimate_app.py\n",
    "import streamlit as st\n",
    "import pandas as pd\n",
    "import joblib\n",
    "from datetime import datetime\n",
    "\n",
    "# Faylları yükləyirik\n",
    "brands = joblib.load('brands.pkl')\n",
    "encoded_brand = joblib.load('encoded_brand.pkl')\n",
    "encoded_model = joblib.load('encoded_model.pkl')\n",
    "model = joblib.load('model.pkl')\n",
    "\n",
    "# Streamlit tətbiqinin başlığı\n",
    "st.title('Car Price Estimate App')\n",
    "\n",
    "# 1. Year seçimi\n",
    "current_year = datetime.now().year\n",
    "year = st.sidebar.number_input('Year', min_value=1950, max_value=current_year, value=current_year, key='year_input')\n",
    "\n",
    "# 2. Type seçimi\n",
    "types = brands['type'].unique()\n",
    "selected_type = st.sidebar.selectbox('Type', options=types, key='type_select')\n",
    "\n",
    "# 3. Brand seçimi\n",
    "brands_for_type = brands[brands['type'] == selected_type]['brand'].unique()\n",
    "selected_brand = st.sidebar.selectbox('Brand', options=['...'] + list(brands_for_type), key='brand_select')\n",
    "\n",
    "# 4. Model seçimi\n",
    "if selected_brand != '...':\n",
    "    models_for_brand = brands[(brands['type'] == selected_type) & (brands['brand'] == selected_brand)]['model'].unique()\n",
    "    selected_model = st.sidebar.selectbox('Model', options=['...'] + list(models_for_brand), key='model_select')\n",
    "else:\n",
    "    selected_model = '...'\n",
    "\n",
    "# 5. Engine seçimi\n",
    "if selected_model != '...':\n",
    "    engine_for_model = brands[(brands['type'] == selected_type) & (brands['brand'] == selected_brand) & (brands['model'] == selected_model)]['engine (l)'].unique()\n",
    "    selected_engine = st.sidebar.selectbox('Engine (l)', options=['0.0'] + list(engine_for_model), key='engine_select')\n",
    "else:\n",
    "    selected_engine = '0.0'\n",
    "\n",
    "# 6. Run (km) seçimi\n",
    "run_km = st.sidebar.number_input('Run (km)', min_value=0, value=0, key='run_km_input')\n",
    "\n",
    "# Seçimləri göstər\n",
    "st.write(f'Year: {year}')\n",
    "st.write(f'Type: {selected_type}')\n",
    "st.write(f'Brand: {selected_brand}')\n",
    "st.write(f'Model: {selected_model}')\n",
    "st.write(f'Engine (l): {selected_engine}')\n",
    "st.write(f'Run (km): {run_km}')\n",
    "\n",
    "# Proqnoz üçün düymə\n",
    "if st.sidebar.button('Predict', key='predict_button'):\n",
    "    if selected_brand != '...' and selected_model != '...':\n",
    "        # Proqnoz üçün input məlumatlarını hazırlayırıq\n",
    "        input_data = pd.DataFrame({\n",
    "            'year': [year],\n",
    "            'engine (l)': [float(selected_engine)],\n",
    "            'run (km)': [run_km],\n",
    "            'brand_encoded': [encoded_brand.transform([selected_brand])[0]],\n",
    "            'model_encoded': [encoded_model.transform([selected_model])[0]]\n",
    "        })\n",
    "\n",
    "        # Proqnoz edirik\n",
    "        price_prediction = model.predict(input_data)\n",
    "\n",
    "        st.write(f'Predicted price (AZN): {price_prediction[0]:.2f}')\n",
    "    else:\n",
    "        st.write('Brand and Model must be selected.')"
   ]
  }
 ],
 "metadata": {
  "kernelspec": {
   "display_name": "Python 3 (ipykernel)",
   "language": "python",
   "name": "python3"
  },
  "language_info": {
   "codemirror_mode": {
    "name": "ipython",
    "version": 3
   },
   "file_extension": ".py",
   "mimetype": "text/x-python",
   "name": "python",
   "nbconvert_exporter": "python",
   "pygments_lexer": "ipython3",
   "version": "3.11.7"
  }
 },
 "nbformat": 4,
 "nbformat_minor": 5
}
