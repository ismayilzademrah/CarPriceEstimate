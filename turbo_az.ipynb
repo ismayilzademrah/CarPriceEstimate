{
 "cells": [
  {
   "cell_type": "code",
   "execution_count": 1,
   "id": "9699f062-b57c-4ecb-8c67-89a8ed493de4",
   "metadata": {
    "scrolled": true
   },
   "outputs": [],
   "source": [
    "from selenium import webdriver\n",
    "from selenium.webdriver.common.by import By\n",
    "from selenium.webdriver.support.ui import WebDriverWait\n",
    "from selenium.webdriver.support import expected_conditions as EC\n",
    "from selenium.common.exceptions import NoSuchElementException\n",
    "from selenium.webdriver.chrome.service import Service\n",
    "from webdriver_manager.chrome import ChromeDriverManager\n",
    "import pandas as pd\n",
    "pd.set_option('display.max_columns', None)\n",
    "import openpyxl"
   ]
  },
  {
   "cell_type": "code",
   "execution_count": null,
   "id": "e9383983-8631-44b1-b116-6972ecb398e8",
   "metadata": {},
   "outputs": [],
   "source": [
    "# DataFrame yaradılması\n",
    "df = pd.DataFrame(columns=[\"Elan\"])\n",
    "\n",
    "# WebDriver quraşdırılması\n",
    "service = Service(ChromeDriverManager().install())\n",
    "\n",
    "# Yeni User-Agent\n",
    "new_user_agent = \"Mozilla/5.0 (Windows NT 10.0; Win64; x64) AppleWebKit/537.36 (KHTML, like Gecko) Chrome/91.0.4472.124 Safari/537.36\"\n",
    "\n",
    "# Selenium seçimləri\n",
    "options = webdriver.ChromeOptions()\n",
    "options.add_argument(f\"user-agent={new_user_agent}\")  # User-Agentin təyin edilməsi\n",
    "\n",
    "# WebDriver yaradılması\n",
    "driver = webdriver.Chrome(service=service, options=options)\n",
    "\n",
    "sehife_no = 1\n",
    "\n",
    "try:\n",
    "    while sehife_no <= 3:\n",
    "        # URL təyini\n",
    "        url = f'https://turbo.az/autos?page={sehife_no}'\n",
    "\n",
    "        # Səhifənin yüklənməsi\n",
    "        driver.get(url)\n",
    "        \n",
    "        # Səhifənin yüklənməsini gözləmə vaxtının təyini\n",
    "        driver.implicitly_wait(10)  # 10 saniyə gözləyir\n",
    "        \n",
    "        elan_class = \"products-i\"\n",
    "\n",
    "        elan_elements = driver.find_elements(By.CLASS_NAME, elan_class)\n",
    "\n",
    "        # Elementləri çap etmə və DataFrame-ə əlavə etmə\n",
    "        for elan_element in elan_elements:\n",
    "            elan_text = elan_element.text\n",
    "            # Elanın duplikat olub olmadığını yoxlamaq\n",
    "            if elan_text not in df['Elan'].values:\n",
    "                df = pd.concat([df, pd.DataFrame({'Elan': [elan_text]})], ignore_index=True)\n",
    "\n",
    "        sehife_no += 1\n",
    "    \n",
    "finally:\n",
    "    # WebDriver-i bağlamaq\n",
    "    if driver:\n",
    "        driver.quit()\n",
    "\n",
    "# DataFrame-i yoxlamaq\n",
    "df.head()"
   ]
  },
  {
   "cell_type": "code",
   "execution_count": null,
   "id": "497a6502-403f-4cc9-b185-435e2f02eb64",
   "metadata": {},
   "outputs": [],
   "source": [
    "df.info()"
   ]
  },
  {
   "cell_type": "code",
   "execution_count": 4,
   "id": "1eef4034-e07a-415f-ad1b-468089b5260c",
   "metadata": {},
   "outputs": [],
   "source": [
    "# DataFrame-i Excel faylına yazmaq\n",
    "df.to_excel('turbo_az_020824.xlsx', index=False)  # index=False yazmaq indeksləmə sütununu əlavə etməyəcək"
   ]
  }
 ],
 "metadata": {
  "kernelspec": {
   "display_name": "Python 3 (ipykernel)",
   "language": "python",
   "name": "python3"
  },
  "language_info": {
   "codemirror_mode": {
    "name": "ipython",
    "version": 3
   },
   "file_extension": ".py",
   "mimetype": "text/x-python",
   "name": "python",
   "nbconvert_exporter": "python",
   "pygments_lexer": "ipython3",
   "version": "3.11.7"
  }
 },
 "nbformat": 4,
 "nbformat_minor": 5
}
